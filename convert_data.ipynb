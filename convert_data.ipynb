{
 "cells": [
  {
   "cell_type": "code",
   "execution_count": 1,
   "id": "c78061c6",
   "metadata": {},
   "outputs": [],
   "source": [
    "import jax.numpy as jnp\n",
    "import pandas as pd"
   ]
  },
  {
   "cell_type": "code",
   "execution_count": 2,
   "id": "490279d7",
   "metadata": {},
   "outputs": [],
   "source": [
    "columns = ['duration', 'protocol_type', 'service', 'flag', 'src_bytes', 'dst_bytes', 'land', 'wrong_fragment', 'urgent', 'hot', 'num_failed_logins', 'logged_in', 'num_compromised', 'root_shell', 'su_attempted', 'num_root', 'num_file_creations', 'num_shells', 'num_access_files', 'num_outbound_cmds', 'is_host_login', 'is_guest_login', 'count', 'srv_count', 'serror_rate', 'srv_serror_rate', 'rerror_rate', 'srv_rerror_rate', 'same_srv_rate', 'diff_srv_rate', 'srv_diff_host_rate', 'dst_host_count', 'dst_host_srv_count', 'dst_host_same_srv_rate', 'dst_host_diff_srv_rate', 'dst_host_same_src_port_rate', 'dst_host_srv_diff_host_rate', 'dst_host_serror_rate', 'dst_host_srv_serror_rate', 'dst_host_rerror_rate', 'dst_host_srv_rerror_rate', 'type']\n",
    "df = pd.read_csv('./data/kddcup.csv', header=None, names=columns)"
   ]
  },
  {
   "cell_type": "code",
   "execution_count": 3,
   "id": "34b9e391",
   "metadata": {},
   "outputs": [],
   "source": [
    "df.loc[df[\"type\"] != \"normal.\", 'type'] = 0\n",
    "df.loc[df[\"type\"] == \"normal.\", 'type'] = 1\n",
    "\n",
    "one_hot_protocol = pd.get_dummies(df[\"protocol_type\"], dtype=int)\n",
    "one_hot_service = pd.get_dummies(df[\"service\"], dtype=int)\n",
    "one_hot_flag = pd.get_dummies(df[\"flag\"], dtype=int)\n",
    "\n",
    "df = df.drop(\"protocol_type\",axis=1)\n",
    "df = df.drop(\"service\",axis=1)\n",
    "df = df.drop(\"flag\",axis=1)\n",
    "    \n",
    "df = pd.concat([one_hot_protocol, one_hot_service,one_hot_flag, df],axis=1)"
   ]
  },
  {
   "cell_type": "code",
   "execution_count": null,
   "id": "71de10a5",
   "metadata": {},
   "outputs": [],
   "source": [
    "df[\"type\"] = pd.to_numeric(df[\"type\"], errors=\"coerce\").astype(int)"
   ]
  },
  {
   "cell_type": "code",
   "execution_count": 4,
   "id": "0542e887",
   "metadata": {},
   "outputs": [],
   "source": [
    "df = df.astype(float)"
   ]
  },
  {
   "cell_type": "code",
   "execution_count": 5,
   "id": "756f1bb9",
   "metadata": {},
   "outputs": [
    {
     "name": "stdout",
     "output_type": "stream",
     "text": [
      "icmp                        float64\n",
      "tcp                         float64\n",
      "udp                         float64\n",
      "IRC                         float64\n",
      "X11                         float64\n",
      "                             ...   \n",
      "dst_host_serror_rate        float64\n",
      "dst_host_srv_serror_rate    float64\n",
      "dst_host_rerror_rate        float64\n",
      "dst_host_srv_rerror_rate    float64\n",
      "type                        float64\n",
      "Length: 123, dtype: object\n"
     ]
    }
   ],
   "source": [
    "print(df.dtypes)"
   ]
  },
  {
   "cell_type": "code",
   "execution_count": 6,
   "id": "3e268613",
   "metadata": {},
   "outputs": [],
   "source": [
    "jnp.savez('./data/kddcup.npz',kdd=df.to_numpy(dtype=\"float32\"))"
   ]
  }
 ],
 "metadata": {
  "kernelspec": {
   "display_name": "venv",
   "language": "python",
   "name": "python3"
  },
  "language_info": {
   "codemirror_mode": {
    "name": "ipython",
    "version": 3
   },
   "file_extension": ".py",
   "mimetype": "text/x-python",
   "name": "python",
   "nbconvert_exporter": "python",
   "pygments_lexer": "ipython3",
   "version": "3.9.21"
  }
 },
 "nbformat": 4,
 "nbformat_minor": 5
}
